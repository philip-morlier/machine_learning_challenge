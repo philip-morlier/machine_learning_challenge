{
 "cells": [
  {
   "cell_type": "code",
   "execution_count": 19,
   "metadata": {},
   "outputs": [],
   "source": [
    "from sklearn import tree"
   ]
  },
  {
   "cell_type": "code",
   "execution_count": 12,
   "metadata": {},
   "outputs": [],
   "source": [
    "#so now we have an idea of what is important and not lets do a more refined run at a decesion tree\n",
    "#and random forest\n",
    "#first we'll haul in our pre processed data\n",
    "%store -r target\n",
    "%store -r target_names\n",
    "%store -r data"
   ]
  },
  {
   "cell_type": "code",
   "execution_count": 14,
   "metadata": {},
   "outputs": [],
   "source": [
    "#splitting testing and training data\n",
    "from sklearn.model_selection import train_test_split\n",
    "X_train, X_test, y_train, y_test = train_test_split(data, target, random_state=42)"
   ]
  },
  {
   "cell_type": "code",
   "execution_count": 17,
   "metadata": {},
   "outputs": [
    {
     "data": {
      "text/plain": [
       "array([[0.        , 0.        , 0.        , ..., 0.02562695, 0.55256164,\n",
       "        0.80181765],\n",
       "       [0.        , 1.        , 0.        , ..., 0.02219287, 0.7411565 ,\n",
       "        0.18202062],\n",
       "       [0.        , 0.        , 1.        , ..., 0.0221639 , 0.75473659,\n",
       "        0.77672302],\n",
       "       ...,\n",
       "       [0.        , 1.        , 0.        , ..., 0.03365905, 0.36494446,\n",
       "        0.15668935],\n",
       "       [0.        , 1.        , 0.        , ..., 0.01865926, 0.6704085 ,\n",
       "        0.59139802],\n",
       "       [1.        , 0.        , 0.        , ..., 0.1187443 , 0.67175842,\n",
       "        0.63560234]])"
      ]
     },
     "execution_count": 17,
     "metadata": {},
     "output_type": "execute_result"
    }
   ],
   "source": [
    "#first lets begin by scaling the data\n",
    "from sklearn.preprocessing import MinMaxScaler\n",
    "scaler = MinMaxScaler()\n",
    "scaler.fit(X_train)\n",
    "scaler.transform(X_train)"
   ]
  },
  {
   "cell_type": "code",
   "execution_count": 20,
   "metadata": {},
   "outputs": [
    {
     "data": {
      "text/plain": [
       "0.9562602515035539"
      ]
     },
     "execution_count": 20,
     "metadata": {},
     "output_type": "execute_result"
    }
   ],
   "source": [
    "#creating decesion tree, fitting and testing the model\n",
    "clf = tree.DecisionTreeClassifier()\n",
    "clf = clf.fit(X_train, y_train)\n",
    "clf.score(X_test, y_test)"
   ]
  },
  {
   "cell_type": "code",
   "execution_count": 21,
   "metadata": {},
   "outputs": [
    {
     "data": {
      "text/plain": [
       "0.9797703663203936"
      ]
     },
     "execution_count": 21,
     "metadata": {},
     "output_type": "execute_result"
    }
   ],
   "source": [
    "from sklearn.ensemble import RandomForestClassifier\n",
    "rf = RandomForestClassifier(n_estimators=200)\n",
    "rf = rf.fit(X_train, y_train)\n",
    "rf.score(X_test, y_test)"
   ]
  },
  {
   "cell_type": "code",
   "execution_count": 22,
   "metadata": {},
   "outputs": [
    {
     "data": {
      "text/plain": [
       "[(0.26764954395413304, 'koi_fpflag_ss'),\n",
       " (0.2575296409825395, 'koi_fpflag_nt'),\n",
       " (0.18106600800367761, 'koi_fpflag_co'),\n",
       " (0.09785196417164645, 'koi_period'),\n",
       " (0.06392865825033267, 'koi_fpflag_ec'),\n",
       " (0.04356478713831079, 'koi_duration'),\n",
       " (0.043083931015080575, 'koi_time0bk'),\n",
       " (0.025405738743476337, 'ra'),\n",
       " (0.019919727740802962, 'dec')]"
      ]
     },
     "execution_count": 22,
     "metadata": {},
     "output_type": "execute_result"
    }
   ],
   "source": [
    "feature_names = data.columns\n",
    "sorted(zip(rf.feature_importances_, feature_names), reverse=True)"
   ]
  },
  {
   "cell_type": "code",
   "execution_count": null,
   "metadata": {},
   "outputs": [],
   "source": [
    "#not much change, a slight increase in distribution of feature importance"
   ]
  }
 ],
 "metadata": {
  "kernelspec": {
   "display_name": "Python 3",
   "language": "python",
   "name": "python3"
  },
  "language_info": {
   "codemirror_mode": {
    "name": "ipython",
    "version": 3
   },
   "file_extension": ".py",
   "mimetype": "text/x-python",
   "name": "python",
   "nbconvert_exporter": "python",
   "pygments_lexer": "ipython3",
   "version": "3.7.4"
  }
 },
 "nbformat": 4,
 "nbformat_minor": 2
}
