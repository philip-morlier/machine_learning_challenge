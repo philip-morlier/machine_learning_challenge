{
 "cells": [
  {
   "cell_type": "code",
   "execution_count": 19,
   "metadata": {},
   "outputs": [],
   "source": [
    "from sklearn import tree"
   ]
  },
  {
   "cell_type": "code",
   "execution_count": 12,
   "metadata": {},
   "outputs": [],
   "source": [
    "#so now we have an idea of what is important and not lets do a more refined run at a decesion tree\n",
    "#and random forest\n",
    "#first we'll haul in our pre processed data\n",
    "%store -r target\n",
    "%store -r target_names\n",
    "%store -r data"
   ]
  },
  {
   "cell_type": "code",
   "execution_count": 14,
   "metadata": {},
   "outputs": [],
   "source": [
    "#splitting testing and training data\n",
    "from sklearn.model_selection import train_test_split\n",
    "X_train, X_test, y_train, y_test = train_test_split(data, target, random_state=42)"
   ]
  },
  {
   "cell_type": "code",
   "execution_count": 23,
   "metadata": {},
   "outputs": [
    {
     "data": {
      "text/plain": [
       "array([[0.        , 1.        , 1.        , ..., 0.01472384, 0.41396549,\n",
       "        0.51496718],\n",
       "       [0.        , 0.        , 0.        , ..., 0.04205796, 0.78268762,\n",
       "        0.60454805],\n",
       "       [0.        , 1.        , 0.        , ..., 0.04270779, 0.57919019,\n",
       "        0.27169915],\n",
       "       ...,\n",
       "       [0.        , 0.        , 0.        , ..., 0.03154829, 0.55569472,\n",
       "        0.81342853],\n",
       "       [0.        , 0.        , 1.        , ..., 0.01854367, 0.91170564,\n",
       "        0.65927983],\n",
       "       [0.        , 0.        , 1.        , ..., 0.0118698 , 0.77559345,\n",
       "        0.89712433]])"
      ]
     },
     "execution_count": 23,
     "metadata": {},
     "output_type": "execute_result"
    }
   ],
   "source": [
    "#first lets begin by scaling the data\n",
    "from sklearn.preprocessing import MinMaxScaler\n",
    "scaler = MinMaxScaler()\n",
    "scaler.fit(X_train)\n",
    "scaler.transform(X_train)\n",
    "scaler.fit(X_test)\n",
    "scaler.transform(X_test)\n"
   ]
  },
  {
   "cell_type": "code",
   "execution_count": 24,
   "metadata": {},
   "outputs": [
    {
     "data": {
      "text/plain": [
       "0.9606342263531985"
      ]
     },
     "execution_count": 24,
     "metadata": {},
     "output_type": "execute_result"
    }
   ],
   "source": [
    "#creating decesion tree, fitting and testing the model\n",
    "scaler.fit\n",
    "clf = tree.DecisionTreeClassifier()\n",
    "clf = clf.fit(X_train, y_train)\n",
    "clf.score(X_test, y_test)"
   ]
  },
  {
   "cell_type": "code",
   "execution_count": 25,
   "metadata": {},
   "outputs": [
    {
     "data": {
      "text/plain": [
       "0.9797703663203936"
      ]
     },
     "execution_count": 25,
     "metadata": {},
     "output_type": "execute_result"
    }
   ],
   "source": [
    "from sklearn.ensemble import RandomForestClassifier\n",
    "rf = RandomForestClassifier(n_estimators=200)\n",
    "rf = rf.fit(X_train, y_train)\n",
    "rf.score(X_test, y_test)"
   ]
  },
  {
   "cell_type": "code",
   "execution_count": 26,
   "metadata": {},
   "outputs": [
    {
     "data": {
      "text/plain": [
       "[(0.28198654145719226, 'koi_fpflag_ss'),\n",
       " (0.24660114539696226, 'koi_fpflag_nt'),\n",
       " (0.18189811371224243, 'koi_fpflag_co'),\n",
       " (0.08560309411405514, 'koi_period'),\n",
       " (0.06725146665657637, 'koi_fpflag_ec'),\n",
       " (0.0460060163508487, 'koi_time0bk'),\n",
       " (0.045053383086793214, 'koi_duration'),\n",
       " (0.025050832068520462, 'ra'),\n",
       " (0.020549407156809356, 'dec')]"
      ]
     },
     "execution_count": 26,
     "metadata": {},
     "output_type": "execute_result"
    }
   ],
   "source": [
    "feature_names = data.columns\n",
    "sorted(zip(rf.feature_importances_, feature_names), reverse=True)"
   ]
  },
  {
   "cell_type": "code",
   "execution_count": null,
   "metadata": {},
   "outputs": [],
   "source": [
    "#not much change, a slight increase in distribution of feature importance"
   ]
  }
 ],
 "metadata": {
  "kernelspec": {
   "display_name": "Python 3",
   "language": "python",
   "name": "python3"
  },
  "language_info": {
   "codemirror_mode": {
    "name": "ipython",
    "version": 3
   },
   "file_extension": ".py",
   "mimetype": "text/x-python",
   "name": "python",
   "nbconvert_exporter": "python",
   "pygments_lexer": "ipython3",
   "version": "3.6.9"
  }
 },
 "nbformat": 4,
 "nbformat_minor": 2
}
