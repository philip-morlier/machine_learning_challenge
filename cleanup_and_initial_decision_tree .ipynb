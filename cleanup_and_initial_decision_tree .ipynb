{
 "cells": [
  {
   "cell_type": "code",
   "execution_count": 21,
   "metadata": {},
   "outputs": [],
   "source": [
    "import pandas as pd\n",
    "from sklearn import tree\n",
    "import os"
   ]
  },
  {
   "cell_type": "code",
   "execution_count": 22,
   "metadata": {},
   "outputs": [],
   "source": [
    "#importing converting csv to dataframe and dropping nan values\n",
    "planets=pd.read_csv('resorces/cumulative.csv')\n",
    "planets_0=planets.dropna(axis='columns')\n",
    "planets_1=planets_0.dropna()"
   ]
  },
  {
   "cell_type": "code",
   "execution_count": 23,
   "metadata": {},
   "outputs": [],
   "source": [
    "#eliminating non confirmed cases from the dataframe and making a new dataframe\n",
    "results=list(planets_1.koi_disposition.unique())\n",
    "temp_list=[]\n",
    "for i in range(0,2,1):\n",
    "    new_frame=planets_1.loc[planets_1['koi_disposition']==results[i]]\n",
    "    temp_list.append(new_frame)\n",
    "data=temp_list[0].append(temp_list[1])"
   ]
  },
  {
   "cell_type": "code",
   "execution_count": 24,
   "metadata": {},
   "outputs": [
    {
     "name": "stdout",
     "output_type": "stream",
     "text": [
      "Stored 'target' (Series)\n",
      "Stored 'target_names' (ndarray)\n"
     ]
    }
   ],
   "source": [
    "#saving target values for later\n",
    "target = data['koi_disposition']\n",
    "target_names = target.unique()\n",
    "%store target\n",
    "%store target_names"
   ]
  },
  {
   "cell_type": "code",
   "execution_count": 25,
   "metadata": {},
   "outputs": [],
   "source": [
    "#droping all columns containing non numerical values \n",
    "columns=list(data)\n",
    "for i in range(len(columns)):\n",
    "    if type(data[(columns[i])][0])==str:\n",
    "        data.drop([columns[i]],axis=1,inplace=True)"
   ]
  },
  {
   "cell_type": "code",
   "execution_count": 26,
   "metadata": {},
   "outputs": [
    {
     "name": "stdout",
     "output_type": "stream",
     "text": [
      "Stored 'data' (DataFrame)\n"
     ]
    }
   ],
   "source": [
    "#dropping other non quantified columns\n",
    "data.drop(['rowid','kepid'],axis=1,inplace=True)\n",
    "%store data"
   ]
  },
  {
   "cell_type": "code",
   "execution_count": 27,
   "metadata": {},
   "outputs": [],
   "source": [
    "#splitting testing and training data\n",
    "from sklearn.model_selection import train_test_split\n",
    "X_train, X_test, y_train, y_test = train_test_split(data, target, random_state=42)"
   ]
  },
  {
   "cell_type": "code",
   "execution_count": 9,
   "metadata": {},
   "outputs": [
    {
     "data": {
      "text/plain": [
       "0.965008201202843"
      ]
     },
     "execution_count": 9,
     "metadata": {},
     "output_type": "execute_result"
    }
   ],
   "source": [
    "#creating decesion tree, fitting and testing the model\n",
    "clf = tree.DecisionTreeClassifier()\n",
    "clf = clf.fit(X_train, y_train)\n",
    "clf.score(X_test, y_test)"
   ]
  },
  {
   "cell_type": "code",
   "execution_count": 10,
   "metadata": {},
   "outputs": [
    {
     "data": {
      "text/plain": [
       "0.9792236194641881"
      ]
     },
     "execution_count": 10,
     "metadata": {},
     "output_type": "execute_result"
    }
   ],
   "source": [
    "#classifing the features in terms of importance\n",
    "from sklearn.ensemble import RandomForestClassifier\n",
    "rf = RandomForestClassifier(n_estimators=200)\n",
    "rf = rf.fit(X_train, y_train)\n",
    "rf.score(X_test, y_test)"
   ]
  },
  {
   "cell_type": "code",
   "execution_count": 11,
   "metadata": {},
   "outputs": [
    {
     "data": {
      "text/plain": [
       "[(0.2820340252896273, 'koi_fpflag_ss'),\n",
       " (0.23276966611144156, 'koi_fpflag_nt'),\n",
       " (0.18213983393977717, 'koi_fpflag_co'),\n",
       " (0.0970708403505133, 'koi_period'),\n",
       " (0.0696789872302972, 'koi_fpflag_ec'),\n",
       " (0.044828924633365776, 'koi_time0bk'),\n",
       " (0.0442608459435914, 'koi_duration'),\n",
       " (0.02662064351724436, 'ra'),\n",
       " (0.020596232984141767, 'dec')]"
      ]
     },
     "execution_count": 11,
     "metadata": {},
     "output_type": "execute_result"
    }
   ],
   "source": [
    "#naming the features and printing importance scores\n",
    "feature_names = data.columns\n",
    "sorted(zip(rf.feature_importances_, feature_names), reverse=True)"
   ]
  },
  {
   "cell_type": "code",
   "execution_count": 12,
   "metadata": {},
   "outputs": [],
   "source": [
    "#this looks very good. We have a well performing model with two to four features which have clearly\n",
    "#significant weight in regards to determining categorization of the celestial object. "
   ]
  }
 ],
 "metadata": {
  "kernelspec": {
   "display_name": "Python 3",
   "language": "python",
   "name": "python3"
  },
  "language_info": {
   "codemirror_mode": {
    "name": "ipython",
    "version": 3
   },
   "file_extension": ".py",
   "mimetype": "text/x-python",
   "name": "python",
   "nbconvert_exporter": "python",
   "pygments_lexer": "ipython3",
   "version": "3.7.4"
  }
 },
 "nbformat": 4,
 "nbformat_minor": 2
}
